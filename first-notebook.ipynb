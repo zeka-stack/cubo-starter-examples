{
 "cells": [
  {
   "cell_type": "code",
   "metadata": {
    "collapsed": true,
    "ExecuteTime": {
     "end_time": "2025-07-04T18:15:14.567581Z",
     "start_time": "2025-07-04T18:15:14.493166Z"
    }
   },
   "source": "println(\"Hello, this is a Kotlin Notebook!\")",
   "outputs": [
    {
     "name": "stdout",
     "output_type": "stream",
     "text": [
      "Hello, this is a Kotlin Notebook!\n"
     ]
    }
   ],
   "execution_count": 1
  },
  {
   "metadata": {},
   "cell_type": "markdown",
   "source": "# 这是一个测试"
  },
  {
   "metadata": {
    "ExecuteTime": {
     "end_time": "2025-07-04T18:30:53.555397Z",
     "start_time": "2025-07-04T18:29:49.381812Z"
    }
   },
   "cell_type": "code",
   "source": [
    "%useLatestDescriptors\n",
    "%use datetime\n",
    "%use kandy\n",
    "\n"
   ],
   "outputs": [],
   "execution_count": 6
  },
  {
   "metadata": {
    "ExecuteTime": {
     "end_time": "2025-07-04T18:25:15.599507Z",
     "start_time": "2025-07-04T18:25:15.591903Z"
    }
   },
   "cell_type": "code",
   "source": ":classpath\n",
   "outputs": [
    {
     "data": {
      "text/plain": [
       "Current classpath (12 paths):\n",
       "/Users/dong4j/Library/Caches/JetBrains/IntelliJIdea2025.1/kotlinNotebook/zeka.stack.70ca016/kernels/0.12.0-398/kotlin-jupyter-script-classpath-shadowed-zip_extracted/lib-0.12.0-398.jar\n",
       "/Users/dong4j/Library/Caches/JetBrains/IntelliJIdea2025.1/kotlinNotebook/zeka.stack.70ca016/kernels/0.12.0-398/kotlin-jupyter-script-classpath-shadowed-zip_extracted/kotlin-stdlib-1.9.23.jar\n",
       "/Users/dong4j/Library/Caches/JetBrains/IntelliJIdea2025.1/kotlinNotebook/zeka.stack.70ca016/kernels/0.12.0-398/kotlin-jupyter-script-classpath-shadowed-zip_extracted/kotlin-reflect-1.9.23.jar\n",
       "/Users/dong4j/Library/Caches/JetBrains/IntelliJIdea2025.1/kotlinNotebook/zeka.stack.70ca016/kernels/0.12.0-398/kotlin-jupyter-script-classpath-shadowed-zip_extracted/kotlinx-serialization-core-jvm-1.6.3.jar\n",
       "/Users/dong4j/Library/Caches/JetBrains/IntelliJIdea2025.1/kotlinNotebook/zeka.stack.70ca016/kernels/0.12.0-398/kotlin-jupyter-script-classpath-shadowed-zip_extracted/api-0.12.0-398.jar\n",
       "/Users/dong4j/Library/Caches/JetBrains/IntelliJIdea2025.1/kotlinNotebook/zeka.stack.70ca016/kernels/0.12.0-398/kotlin-jupyter-script-classpath-shadowed-zip_extracted/annotations-13.0.jar\n",
       "/Users/dong4j/Library/Caches/JetBrains/IntelliJIdea2025.1/kotlinNotebook/zeka.stack.70ca016/kernels/0.12.0-398/kotlin-jupyter-script-classpath-shadowed-zip_extracted/slf4j-api-2.0.12.jar\n",
       "/Users/dong4j/Library/Caches/JetBrains/IntelliJIdea2025.1/kotlinNotebook/zeka.stack.70ca016/kernels/0.12.0-398/kotlin-jupyter-script-classpath-shadowed-zip_extracted/kotlinx-serialization-json-jvm-1.6.3.jar\n",
       "/Users/dong4j/Library/Caches/JetBrains/IntelliJIdea2025.1/kotlinNotebook/zeka.stack.70ca016/kernels/0.12.0-398/kotlin-jupyter-script-classpath-shadowed-zip_extracted/kotlin-script-runtime-1.9.23.jar\n",
       "/Users/dong4j/.m2/repository/org/jetbrains/kotlinx/kotlinx-datetime-jvm/0.6.2/kotlinx-datetime-jvm-0.6.2.jar\n",
       "/Users/dong4j/.m2/repository/org/jetbrains/kotlin/kotlin-stdlib/1.9.21/kotlin-stdlib-1.9.21.jar\n",
       "/Users/dong4j/.m2/repository/org/jetbrains/annotations/13.0/annotations-13.0.jar"
      ]
     },
     "execution_count": 3,
     "metadata": {},
     "output_type": "execute_result"
    }
   ],
   "execution_count": 3
  },
  {
   "metadata": {
    "ExecuteTime": {
     "end_time": "2025-07-04T18:25:49.345925Z",
     "start_time": "2025-07-04T18:25:49.327683Z"
    }
   },
   "cell_type": "code",
   "source": ":help\n",
   "outputs": [
    {
     "data": {
      "text/plain": [
       "Kotlin Jupyter kernel.\n",
       "Kernel version: 0.12.0.398\n",
       "Kotlin version: 1.9.23\n",
       "JVM version: 21\n",
       "\n",
       "Commands:\n",
       "    :help - Displays help information with details of the notebook version, line magics, and supported libraries.\n",
       "    :classpath - Displays the current classpath of your notebook environment, showing a list of locations where the notebook searches for libraries and resources.\n",
       "    :vars - Displays information about the declared variables and their values.\n",
       "\n",
       "Magics:\n",
       "    %use - Imports supported libraries and injects code from these libraries(artifact resolution, default imports, initialization code, and type renderers).\n",
       "        Usage: %use klaxon(5.5), lets-plot\n",
       "    %trackClasspath - Logs any changes of the current classpath. This command is useful for debugging artifact resolution failures.\n",
       "        Usage: %trackClasspath [on/off]\n",
       "    %trackExecution - Logs pieces of code to be executed. This command is useful for debugging libraries support.\n",
       "        Usage: %trackExecution [all/generated/off]\n",
       "    %useLatestDescriptors - Sets the latest versions of available library descriptors instead of bundled descriptors (used by default). Note that bundled descriptors are preferred because the current kernel version might not support the latest descriptors. For better notebook stability, use bundled descriptors.\n",
       "        Usage: %useLatestDescriptors [on/off]\n",
       "    %output - Configures the output capturing settings.\n",
       "        Usage: %output --max-cell-size=1000 --no-stdout --max-time=100 --max-buffer=400\n",
       "    %logLevel - Sets logging level.\n",
       "        Usage: %logLevel [off/error/warn/info/debug]\n",
       "\n",
       "Supported libraries:\n",
       "    intellij-sdk (https://plugins.jetbrains.com/docs/intellij/welcome.html) - IntelliJ SDK that could be used in embedded mode of Kotlin Notebook\n",
       "    webtau (https://github.com/testingisdocumenting/webtau) - WebTau end-to-end testing across layers\n",
       "    roboquant (https://roboquant.org) - Algorithmic trading platform written in Kotlin\n",
       "    ktor-client (https://github.com/Kotlin/kotlin-jupyter-http-util) - Asynchronous HTTP client\n",
       "    jupyter-js (https://github.com/yidafu/kotlin-jupyter-js) - Experimental `%javascript`/`%typescript`/`%jsx` line magic support\n",
       "    ksl (https://github.com/rossetti/KSL) - KSL - Kotlin Simulation Library for Monte Carlo and Discrete-Event Simulation\n",
       "    adventOfCode (https://github.com/Toldoven/aoc-kotlin-notebook) - Interactive Advent of Code framework for Kotlin Notebook\n",
       "    kandy (https://github.com/Kotlin/kandy) - Kotlin plotting DSL for Lets-Plot\n",
       "    kandy-geo (https://github.com/Kotlin/kandy) - Geo extensions for Kandy and Kotlin Dataframe\n",
       "    kotlin-dl (https://github.com/Kotlin/kotlindl) - KotlinDL library which provides Keras-like API for deep learning\n",
       "    combinatoricskt (https://github.com/shiguruikai/combinatoricskt) - A combinatorics library for Kotlin\n",
       "    kt-math (https://github.com/gciatto/kt-math) - Kotlin multi-platform port of java.math.*\n",
       "    serialization (https://github.com/Kotlin/kotlin-jupyter-http-util) - Deserialize JSON content using kotlinx.serialization and automatically generate classes for it\n",
       "    lets-plot-gt (https://github.com/JetBrains/lets-plot-kotlin) - Lets-Plot visualisation for GeoTools toolkit\n",
       "    dataframe (https://github.com/Kotlin/dataframe) - Kotlin framework for structured data processing\n",
       "    kandy-echarts (https://github.com/Kotlin/kandy) - Kotlin plotting DSL for Apache ECharts\n",
       "    kmath (https://github.com/mipt-npm/kmath) - Experimental Kotlin algebra-based mathematical library\n",
       "    exposed (https://github.com/JetBrains/Exposed) - Kotlin SQL framework\n",
       "    develocity-api-kotlin (https://github.com/gabrielfeo/develocity-api-kotlin) - A library to use the Develocity API in Kotlin scripts or projects\n",
       "    gral (https://github.com/eseifert/gral) - Java library for displaying plots\n",
       "    jdsp (https://github.com/psambit9791/jDSP) - Java library for signal processing\n",
       "    openai (https://openai.com/blog/chatgpt) - OpenAI API for Jupyter Notebooks\n",
       "    spark-streaming (https://github.com/JetBrains/kotlin-spark-api) - Kotlin API for Apache Spark Streaming: scalable, high-throughput, fault-tolerant stream processing of live data streams\n",
       "    spark (https://github.com/JetBrains/kotlin-spark-api) - Kotlin API for Apache Spark: unified analytics engine for large-scale data processing\n",
       "    smile (https://github.com/haifengl/smile) - Statistical Machine Intelligence and Learning Engine\n",
       "    kraphviz (https://github.com/nidi3/graphviz-java) - Graphviz wrapper for JVM\n",
       "    plotly (https://github.com/mipt-npm/plotly.kt) - [beta] Plotly.kt jupyter integration for static plots.\n",
       "    multik (https://github.com/Kotlin/multik) - Multidimensional array library for Kotlin\n",
       "    lets-plot (https://github.com/JetBrains/lets-plot-kotlin) - Kotlin API for Lets-Plot: multiplatform plotting library based on Grammar of Graphics\n",
       "    plotly-server (https://github.com/mipt-npm/plotly.kt) - [beta] Plotly.kt jupyter integration for dynamic plots.\n",
       "    fuel (https://github.com/kittinunf/fuel) - HTTP networking library\n",
       "    datetime (https://github.com/Kotlin/kotlinx-datetime) - Kotlin date/time library\n",
       "    rdkit (https://www.rdkit.org/) - Open-Source Cheminformatics Software\n",
       "    default - Default imports: dataframe and Kandy libraries\n",
       "    londogard-nlp-toolkit (https://github.com/londogard/londogard-nlp-toolkit) - A Natural Language Processing (NLP) toolkit for Kotlin on the JVM\n",
       "    kaliningraph (https://github.com/breandan/kaliningraph) - Graph library with a DSL for constructing graphs and visualizing the behavior of graph algorithms\n",
       "    deeplearning4j (https://github.com/eclipse/deeplearning4j) - Deep learning library for the JVM\n",
       "    2p-kt (https://github.com/tuProlog/2p-kt) - Kotlin Multi-Platform ecosystem for symbolic AI\n",
       "    lib-ext (https://github.com/Kotlin/kotlin-jupyter) - Extended functionality for Jupyter kernel\n",
       "    reflection (https://kotlinlang.org/docs/reflection.html) - Imports for Kotlin Reflection\n",
       "    kalasim (https://www.kalasim.org) - Discrete event simulator\n",
       "    klaxon (https://github.com/cbeust/klaxon) - JSON parser for Kotlin\n",
       "    deeplearning4j-cuda (https://github.com/eclipse/deeplearning4j) - Deep learning library for the JVM (CUDA support)\n",
       "    biokotlin (https://github.com/maize-genetics/BioKotlin) - BioKotlin aims to be a high-performance bioinformatics library that brings the power and speed of compiled programming languages to scripting and big data environments.\n",
       "    mysql (https://github.com/mysql/mysql-connector-j) - MySql JDBC Connector\n",
       "    kravis (https://github.com/holgerbrandl/kravis) - Kotlin grammar for data visualization\n",
       "    coroutines (https://github.com/Kotlin/kotlinx.coroutines) - Asynchronous programming and reactive streams support"
      ]
     },
     "execution_count": 4,
     "metadata": {},
     "output_type": "execute_result"
    }
   ],
   "execution_count": 4
  },
  {
   "metadata": {},
   "cell_type": "code",
   "outputs": [],
   "execution_count": null,
   "source": ""
  }
 ],
 "metadata": {
  "kernelspec": {
   "display_name": "Kotlin",
   "language": "kotlin",
   "name": "kotlin"
  },
  "language_info": {
   "name": "kotlin",
   "version": "1.9.23",
   "mimetype": "text/x-kotlin",
   "file_extension": ".kt",
   "pygments_lexer": "kotlin",
   "codemirror_mode": "text/x-kotlin",
   "nbconvert_exporter": ""
  }
 },
 "nbformat": 4,
 "nbformat_minor": 0
}
